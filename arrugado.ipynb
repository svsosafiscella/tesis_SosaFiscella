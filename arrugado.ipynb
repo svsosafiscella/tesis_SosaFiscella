{
 "cells": [
  {
   "cell_type": "markdown",
   "metadata": {
    "collapsed": true
   },
   "source": [
    "Programa que arruga las observaciones de nbins=1024 a 512, 256, 128, 64 y 32. Para usarlo, el mismo debe estar una carpeta que contenga un subdirectorio llamado 'A1' o 'A2', el cual a su vez contenga todas las observaciones a utilizar"
   ]
  },
  {
   "cell_type": "code",
   "execution_count": 1,
   "metadata": {
    "collapsed": true
   },
   "outputs": [],
   "source": [
    "import psrchive\n",
    "import matplotlib.pyplot as plt\n",
    "import numpy as np\n",
    "import glob\n",
    "import subprocess\n",
    "import os\n",
    "import shutil"
   ]
  },
  {
   "cell_type": "code",
   "execution_count": 2,
   "metadata": {
    "collapsed": true
   },
   "outputs": [],
   "source": [
    "ant = 'A1'                                        # antena usada (A1 o A2)"
   ]
  },
  {
   "cell_type": "code",
   "execution_count": 3,
   "metadata": {
    "collapsed": true
   },
   "outputs": [],
   "source": [
    "# creamos la carpeta que va a contener a las observaciones cruncheadas\n",
    "\n",
    "for nbin in [32, 64, 128, 256, 512, 1024]:        # recorremos todos los valores de nbins\n",
    "    \n",
    "    dirName = './' + ant + '_' + str(nbin)   # nombre de la carpeta\n",
    "    if not os.path.exists(dirName):\n",
    "        os.mkdir(dirName)                         # si la carpeta no existe desde antes, la creamos\n",
    "    else:    \n",
    "        print(\"Carpeta\" + dirName + \" existe\")    # si la carpeta ya existe, avisamos  "
   ]
  },
  {
   "cell_type": "code",
   "execution_count": 4,
   "metadata": {
    "collapsed": true
   },
   "outputs": [],
   "source": [
    "# leemos todas las observaciones .pfd en la carpeta\n",
    "\n",
    "os.chdir('./' + ant + '/')                         # entramos al directorio que contiene los .pfds\n",
    "pfd_files = glob.glob('*pfd')\n",
    "\n",
    "# barremos los valores de nbins que vamos a usar\n",
    "\n",
    "for nbin in [32, 64, 128, 256, 512, 1024]:        # recorremos todos los valores de nbins \n",
    "    \n",
    "    for pfd in pfd_files:                         # recorremos todas las observaciones\n",
    "               \n",
    "        archive = psrchive.Archive_load(pfd)      # cargamos las observaciones a psrchive\n",
    "        data = archive.get_data()                 # leemos el nbins de las observaciones\n",
    "#       print(data.shape)                         # imprimimos por pantalla los datos de la observación original\n",
    "\n",
    "        \n",
    "        if data.shape[3] == 1024:                 # nos quedamos con las observaciones con nbins=1024\n",
    "    \n",
    "            archive.bscrunch_to_nbin(nbin)        # cruncheamos la observación al número deseado de nbins\n",
    "            data2 = archive.get_data()            # leemos el nbins de la observación arrugada\n",
    "#           print(data2.shape)\n",
    "        \n",
    "            os.chdir('..')                        # salimos del directorio que contiene los .pfds\n",
    "            archive.unload('./' + ant + '_' + str(nbin) + '/' + str(pfd))  # guardamos la observación arrugada\n",
    "\n",
    "# copiamos los .polycos y los .bestprof a las nuevas carpetas\n",
    "\n",
    "            shutil.copy('./' + ant + '/' + str(pfd) + '.polycos', './' + ant + '_' + str(nbin))\n",
    "            shutil.copy('./' + ant + '/' + str(pfd) + '.bestprof', './' + ant + '_' + str(nbin))\n",
    "        \n",
    "            os.chdir('./' + ant + '/')       # entramos al directorio que contiene los .pfds\n",
    "        \n",
    "# copiamos también el archivo .par a las nuevas carpetas\n",
    "\n",
    "    os.chdir('..')                                                      # salimos del directorio\n",
    "    shutil.copy('./J0437-4715.par', './' + ant + '_' + str(nbin))  # copiamos el archivo .par\n",
    "    os.chdir('./' + ant + '/')                                     # volvemos a entrar al directorio"
   ]
  }
 ],
 "metadata": {
  "kernelspec": {
   "display_name": "Python 2",
   "language": "python",
   "name": "python2"
  },
  "language_info": {
   "codemirror_mode": {
    "name": "ipython",
    "version": 2
   },
   "file_extension": ".py",
   "mimetype": "text/x-python",
   "name": "python",
   "nbconvert_exporter": "python",
   "pygments_lexer": "ipython2",
   "version": "2.7.13"
  }
 },
 "nbformat": 4,
 "nbformat_minor": 2
}
