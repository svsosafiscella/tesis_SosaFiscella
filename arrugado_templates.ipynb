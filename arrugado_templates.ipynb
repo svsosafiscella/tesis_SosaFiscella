{
 "cells": [
  {
   "cell_type": "code",
   "execution_count": 1,
   "metadata": {
    "collapsed": true
   },
   "outputs": [],
   "source": [
    "import psrchive\n",
    "import subprocess\n",
    "import os"
   ]
  },
  {
   "cell_type": "code",
   "execution_count": 4,
   "metadata": {
    "collapsed": true
   },
   "outputs": [],
   "source": [
    "ant = 'A1'                                        # antena usada (A1 o A2)"
   ]
  },
  {
   "cell_type": "code",
   "execution_count": 7,
   "metadata": {},
   "outputs": [
    {
     "name": "stdout",
     "output_type": "stream",
     "text": [
      "(60, 1, 64, 32)\n",
      "(60, 1, 64, 64)\n",
      "(60, 1, 64, 128)\n",
      "(60, 1, 64, 256)\n",
      "(60, 1, 64, 512)\n",
      "(60, 1, 64, 1024)\n"
     ]
    }
   ],
   "source": [
    "os.chdir('./templates/') \n",
    "\n",
    "for nbin in [32, 64, 128, 256, 512, 1024]:        # recorremos todos los valores de nbins\n",
    "    \n",
    "    archive = psrchive.Archive_load('template_' + str(ant) + '.std')   # cargamos el archivo a psrchive\n",
    "    data = archive.get_data()                                          # leemos los datos del archivo original\n",
    "\n",
    "    archive.bscrunch_to_nbin(nbin)                                     # cruncheamos al número de observaciones dado\n",
    "    data2 = archive.get_data()                                         # leemos los datos del archivo generado\n",
    "    print(data2.shape)                                                 # escribimos los datos por pantalla\n",
    "    \n",
    "    archive.unload('template_' + str(nbin) + '_' + str(ant) + '.std')   # escribimos el archivo de salida\n",
    "    subprocess.call( \"psrsmooth -W  template_\" + str(nbin) + \"_\" + str(ant) + \".std\", shell=True ) # suavizamos\n",
    "    \n",
    "os.chdir('..') "
   ]
  }
 ],
 "metadata": {
  "kernelspec": {
   "display_name": "Python 2",
   "language": "python",
   "name": "python2"
  },
  "language_info": {
   "codemirror_mode": {
    "name": "ipython",
    "version": 2
   },
   "file_extension": ".py",
   "mimetype": "text/x-python",
   "name": "python",
   "nbconvert_exporter": "python",
   "pygments_lexer": "ipython2",
   "version": "2.7.13"
  }
 },
 "nbformat": 4,
 "nbformat_minor": 2
}
