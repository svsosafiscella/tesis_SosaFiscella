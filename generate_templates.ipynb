{
 "cells": [
  {
   "cell_type": "code",
   "execution_count": 1,
   "metadata": {
    "collapsed": true
   },
   "outputs": [],
   "source": [
    "#-----------------------------------------\n",
    "# importamos los paquetes que vamos a usar\n",
    "#-----------------------------------------\n",
    "\n",
    "import pypulse as pulsar\n",
    "\n",
    "import numpy as np\n",
    "import glob                         # para hacer listas de archivo\n",
    "import subprocess                   # para usar subprocesos\n",
    "\n",
    "import glob\n",
    "import subprocess\n",
    "import os\n",
    "import shutil\n",
    "\n",
    "from IPython.display import Image"
   ]
  },
  {
   "cell_type": "code",
   "execution_count": 2,
   "metadata": {
    "collapsed": true
   },
   "outputs": [],
   "source": [
    "ant = 'A1'                                              # antena usada (A1 o A2)"
   ]
  },
  {
   "cell_type": "code",
   "execution_count": null,
   "metadata": {
    "collapsed": true
   },
   "outputs": [],
   "source": [
    "#----------------------------------------------------------------------------\n",
    "# Cargamos las observaciones a Pypulse\n",
    "#----------------------------------------------------------------------------           \n",
    "\n",
    "# creamos una lista con todos los archivos .pfd de observaciones\n",
    "\n",
    "os.chdir('./' + ant + '/')                              # entramos al directorio que contiene los .pfds\n",
    "pfd_files = glob.glob('*pfd')                           # lista de archivos .pfd\n",
    "\n",
    "# Convert PFD files to PSRFITS\n",
    "\n",
    "for pfd in pfd_files:\n",
    "    subprocess.check_call(['psrconv','-o','PSRFITS','-e','fits',pfd])   # convertimos el archivo a .fits\n",
    "    \n",
    "# Save all PSRFITS files\n",
    "psrfits_files = glob.glob('*fits')\n",
    "\n",
    "# Load all PSRFITS into PyPulse\n",
    "fits_pypulse= []\n",
    "for psrfits in psrfits_files:\n",
    "    temp_pypulse= pulsar.Archive(psrfits)\n",
    "    fits_pypulse.append(temp_pypulse)\n",
    "\n",
    "observations = dict(zip(psrfits_files, fits_pypulse))\n",
    "\n",
    "# Create single pulse object\n",
    "# Creat array of best profiles\n",
    "\n",
    "single_pulses=[]\n",
    "\n",
    "for observation in fits_pypulse:\n",
    "    \n",
    "    # First crunch in time and frequency\n",
    "    observation.fscrunch()\n",
    "    observation.tscrunch()\n",
    "    \n",
    "    # Now get array of the best profile\n",
    "    tmp_singlepulse = observation.getSinglePulses(windowsize=256)\n",
    "    \n",
    "    # Align and normalize\n",
    "    tmp_singlepulse.center_align()\n",
    "    tmp_singlepulse.normalize()\n",
    "    \n",
    "    # Save aligned and normalize in each observation\n",
    "    single_pulses.append(tmp_singlepulse)\n",
    "    \n",
    "# Save single pulse object\n",
    "sp_observations = dict(zip(psrfits_files, single_pulses))\n",
    "\n",
    "os.chdir('..')                                 # salimos del directorio que contiene los .pfds"
   ]
  },
  {
   "cell_type": "code",
   "execution_count": null,
   "metadata": {
    "collapsed": true
   },
   "outputs": [],
   "source": [
    "#----------------------------------------------------------------------------\n",
    "# Ahora buscamos la osbervación de mayor S/N y la usamos como template\n",
    "#----------------------------------------------------------------------------\n",
    "\n",
    "sn = np.zeros(len(observations))               # creamos un array que contenga el S/N de todas las observaciones\n",
    "\n",
    "i=0\n",
    "for key in observations:                       # barremos todas las observaciones\n",
    "    sn[i] = sp_observations[key].getSN()       # calculamos su S/N\n",
    "    i += 1\n",
    "\n",
    "maxsn = sn[np.argmax((sn))]                    # buscamos el mayor valor de S/N\n",
    "obs_maxsn = psrfits_files[np.argmax((sn))]     # y el nombre de la respectiva observación\n",
    "    \n",
    "print( \"La observación de mayor S/N es: \" + str( maxsn ) )   # Mostramos los resultados\n",
    "print( \"Su S/N es: \" + str( obs_maxsn ) )\n",
    "\n",
    "if not os.path.exists('./templates'):          # creamos una carpeta para guardar el template\n",
    "    os.mkdir('./templates')\n",
    "\n",
    "shutil.copy('./' + ant + '/' + str(obs_maxsn) , './templates/' +)  # copiamos el archivo a la carpeta de los templates\n",
    "\n",
    "subprocess.call( \"psrsmooth -W \" + str(obs_maxsn), cwd='./templates/', shell=True ) # suavizamos la observación\n",
    "\n",
    "os.rename('./templates/' + str(obs_maxsn) + '.sm' , \"./templates/template_\" + ant + \".std\" ) # usamos esta convención para el nombre"
   ]
  },
  {
   "cell_type": "code",
   "execution_count": 5,
   "metadata": {
    "collapsed": true
   },
   "outputs": [],
   "source": [
    "# Escribimos los nombres de las observaciones usadas como templates en un archivo de salida,\n",
    "# de modo que los otros programas sepan qué observaciones excluir de cálculo de TOAs\n",
    "\n",
    "file = obs_maxsn.replace(\".fits\", \".pfd\")                        # arreglamos el nombre del archivo para que en lugar de .fits diga .pfd\n",
    "\n",
    "f = open('./templates/obs_template_' + ant + '.dat', \"w+\")       # abrimos el nuevo archivo .tim\n",
    "print(file, file = f)\n",
    "f.close()"
   ]
  },
  {
   "cell_type": "code",
   "execution_count": null,
   "metadata": {
    "collapsed": true
   },
   "outputs": [],
   "source": []
  }
 ],
 "metadata": {
  "kernelspec": {
   "display_name": "Python 3",
   "language": "python",
   "name": "python3"
  },
  "language_info": {
   "codemirror_mode": {
    "name": "ipython",
    "version": 3
   },
   "file_extension": ".py",
   "mimetype": "text/x-python",
   "name": "python",
   "nbconvert_exporter": "python",
   "pygments_lexer": "ipython3",
   "version": "3.6.2"
  }
 },
 "nbformat": 4,
 "nbformat_minor": 2
}
