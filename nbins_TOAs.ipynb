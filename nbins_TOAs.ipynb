{
 "cells": [
  {
   "cell_type": "code",
   "execution_count": 30,
   "metadata": {
    "collapsed": true
   },
   "outputs": [],
   "source": [
    "#-----------------------------------------\n",
    "# importamos los paquetes que vamos a usar\n",
    "#-----------------------------------------\n",
    "\n",
    "import os\n",
    "import shutil\n",
    "import numpy as np\n",
    "import glob                         # para hacer listas de archivo\n",
    "import subprocess                   # para usar subprocesos"
   ]
  },
  {
   "cell_type": "code",
   "execution_count": 31,
   "metadata": {
    "collapsed": true
   },
   "outputs": [],
   "source": [
    "ant = 'A1'                                         # antena usada (A1 o A2)    \n",
    "obs_template = np.loadtxt( './templates/obs_template_' + ant + '.dat' , skiprows=0 , dtype=str , usecols=(0) )  # observación originalmente usadada como template"
   ]
  },
  {
   "cell_type": "code",
   "execution_count": 32,
   "metadata": {},
   "outputs": [
    {
     "data": {
      "text/plain": [
       "'./results_nbins_A1/timing_files/J0437-4715.par'"
      ]
     },
     "execution_count": 32,
     "metadata": {},
     "output_type": "execute_result"
    }
   ],
   "source": [
    "#-----------------------------------------------\n",
    "# generamos carpetas para guardar los resultados\n",
    "#-----------------------------------------------\n",
    "\n",
    "dirName = \"./results_nbins_\" + ant            # nombre de la carpeta en que guardaremos los resultados\n",
    "if not os.path.exists(dirName):\n",
    "    os.mkdir(dirName)\n",
    "\n",
    "    \n",
    "os.chdir(dirName + '/')                       # entramos en la carpeta en la cual guadaremos los resultados\n",
    "    \n",
    "if not os.path.exists('./timing_files'):\n",
    "    os.mkdir('./timing_files')                # creamos la carpeta que contendrá los archivos .tim       \n",
    "    \n",
    "os.chdir('..')                                # salimos de la carpeta en la cual guadaremos los resultados\n",
    "    \n",
    "    \n",
    "shutil.copy('./J0437-4715.par', './results_nbins_' + ant + '/timing_files/')     # copiamos el archivo .par a la nueva carpeta para poder usar tempo2"
   ]
  },
  {
   "cell_type": "code",
   "execution_count": 34,
   "metadata": {
    "collapsed": true
   },
   "outputs": [],
   "source": [
    "#--------------------------------------------------------\n",
    "# Ahora trabajamos con los .pfds de nbin=1024,512,256,...\n",
    "#--------------------------------------------------------\n",
    "\n",
    "for nbin in [32, 64, 128, 256, 512, 1024]:\n",
    "\n",
    "    folder = './' + ant + '_' + str(nbin) + '/'                # nombre de la carpeta que contiene los .pfds\n",
    "    \n",
    "    template = 'template_' + str(nbin) + '_' + ant + '.std.sm' # nombre del template\n",
    "    \n",
    "    shutil.copy('./templates/' + template, folder)             # copiamos el template a la carpeta\n",
    "\n",
    "    \n",
    "    os.chdir(folder)                            # entramos al directorio que contiene los .pfds\n",
    "    pfd_files = glob.glob('*pfd')               # leemos los .pfds\n",
    "    \n",
    "\n",
    "#-----------------------------------------\n",
    "# generamos los TOAs (el archivo .tim)\n",
    "#-----------------------------------------\n",
    "\n",
    "# primero, generamos un string que contenga todos los archivos .pfd menos el que usamos como template\n",
    "\n",
    "    pfd_files.remove(str(obs_template))     # sacamos de la lista de observaciones a la que usamos como template\n",
    "\n",
    "    archivos = ''\n",
    "    for pfd in pfd_files:\n",
    "        archivos = archivos + pfd + ' '     # hacemos un string que contenga al resto de las observaciones\n",
    "\n",
    "# ahora llamamos a pat para generar el archivo .tim\n",
    "\n",
    "    timing_file = \"timing_\" + str(nbin) + \".tim\"       # nombre del archivo .tim\n",
    "\n",
    "    subprocess.check_call( \"pat -FT -A PGS -s \" + template + \" -f >\" + timing_file + \" 'tempo2' \" + archivos, shell = True)\n",
    "    \n",
    "    os.chdir('..')                                     # salimos del directorio que contiene los .pfds\n",
    "    \n",
    "    shutil.copy(folder + '/' + timing_file, \"./results_nbins_\" + ant + '/timing_files/')             # copiamos el archivo .tim a la carpeta\n",
    "    \n",
    "    # si las observaciones son de A1, hay que hacer una corrección por la frecuencia\n",
    "\n",
    "    if ant == 'A1':\n",
    "        subprocess.call([\"sed -i -e 's/1414.8750/1414.4375/g' ./results_nbins_\" + ant + \"/timing_files/\" + timing_file], shell=True)"
   ]
  }
 ],
 "metadata": {
  "kernelspec": {
   "display_name": "Python 3",
   "language": "python",
   "name": "python3"
  },
  "language_info": {
   "codemirror_mode": {
    "name": "ipython",
    "version": 3
   },
   "file_extension": ".py",
   "mimetype": "text/x-python",
   "name": "python",
   "nbconvert_exporter": "python",
   "pygments_lexer": "ipython3",
   "version": "3.6.2"
  }
 },
 "nbformat": 4,
 "nbformat_minor": 4
}
