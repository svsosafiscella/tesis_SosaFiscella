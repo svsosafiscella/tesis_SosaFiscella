{
 "cells": [
  {
   "cell_type": "code",
   "execution_count": 30,
   "metadata": {
    "collapsed": true
   },
   "outputs": [],
   "source": [
    "#-----------------------------------------\n",
    "# importamos los paquetes que vamos a usar\n",
    "#-----------------------------------------\n",
    "\n",
    "import os\n",
    "import shutil\n",
    "import numpy as np\n",
    "import glob                         # para hacer listas de archivo\n",
    "import subprocess                   # para usar subprocesos"
   ]
  },
  {
   "cell_type": "code",
   "execution_count": 31,
   "metadata": {},
   "outputs": [],
   "source": [
    "ant = 'A1'                                         # antena usada (A1 o A2)    \n",
    "obs_template = np.loadtxt( './templates/obs_template_' + ant + '.dat' , skiprows=0 , dtype=str , usecols=(0) )  # observación originalmente usadada como template"
   ]
  },
  {
   "cell_type": "code",
   "execution_count": 32,
   "metadata": {},
   "outputs": [
    {
     "data": {
      "text/plain": [
       "'./results_nbins_A1/timing_files/J0437-4715.par'"
      ]
     },
     "execution_count": 32,
     "metadata": {},
     "output_type": "execute_result"
    }
   ],
   "source": [
    "#-----------------------------------------------\n",
    "# generamos carpetas para guardar los resultados\n",
    "#-----------------------------------------------\n",
    "\n",
    "dirName = \"./results_nbins_\" + ant            # nombre de la carpeta en que guardaremos los resultados\n",
    "if not os.path.exists(dirName):\n",
    "    os.mkdir(dirName)\n",
    "\n",
    "    \n",
    "os.chdir(dirName + '/')                       # entramos en la carpeta en la cual guadaremos los resultados\n",
    "    \n",
    "if not os.path.exists('./timing_files'):\n",
    "    os.mkdir('./timing_files')                # creamos la carpeta que contendrá los archivos .tim       \n",
    "    \n",
    "os.chdir('..')                                # salimos de la carpeta en la cual guadaremos los resultados\n",
    "    \n",
    "    \n",
    "shutil.copy('./J0437-4715.par', './results_nbins_' + ant + '/timing_files/')     # copiamos el archivo .par a la nueva carpeta para poder usar tempo2"
   ]
  },
  {
   "cell_type": "code",
   "execution_count": 34,
   "metadata": {},
   "outputs": [],
   "source": [
    "#--------------------------------------------------------\n",
    "# Ahora trabajamos con los .pfds de nbin=1024,512,256,...\n",
    "#--------------------------------------------------------\n",
    "\n",
    "for nbin in (32, 64, 128, 256, 512, 1024):\n",
    "\n",
    "    folder = './' + ant + '_' + str(nbin) + '/'                # nombre de la carpeta que contiene los .pfds\n",
    "    \n",
    "    template = 'template_' + str(nbin) + '_' + ant + '.std.sm' # nombre del template\n",
    "    \n",
    "    shutil.copy('./templates/' + template, folder)             # copiamos el template a la carpeta\n",
    "\n",
    "    \n",
    "    os.chdir(folder)                            # entramos al directorio que contiene los .pfds\n",
    "    pfd_files = glob.glob('*pfd')               # leemos los .pfds\n",
    "    \n",
    "\n",
    "#-----------------------------------------\n",
    "# generamos los TOAs (el archivo .tim)\n",
    "#-----------------------------------------\n",
    "\n",
    "# primero, generamos un string que contenga todos los archivos .pfd menos el que usamos como template\n",
    "\n",
    "    pfd_files.remove(str(obs_template))     # sacamos de la lista de observaciones a la que usamos como templates\n",
    "\n",
    "    archivos = ''\n",
    "    for pfd in pfd_files:\n",
    "        archivos = archivos + pfd + ' '     # hacemos un string que contenga al resto de las observaciones\n",
    "\n",
    "# ahora llamamos a pat para generar el archivo .tim\n",
    "\n",
    "    timing_file = \"timing_\" + str(nbin) + \".tim\"       # nombre del archivo .tim\n",
    "\n",
    "    subprocess.check_call( \"pat -FT -A PGS -s \" + template + \" -f >\" + timing_file + \" 'tempo2' \" + archivos, shell = True)\n",
    "    \n",
    "    os.chdir('..')                                     # salimos del directorio que contiene los .pfds\n",
    "    \n",
    "    shutil.copy(folder + '/' + timing_file, \"./results_nbins_\" + ant + '/timing_files/')             # copiamos el template a la carpeta"
   ]
  },
  {
   "cell_type": "code",
   "execution_count": 29,
   "metadata": {},
   "outputs": [],
   "source": [
    "#-----------------------------------------\n",
    "# generamos los TOAs (el archivo .tim)\n",
    "#-----------------------------------------\n",
    "\n",
    "    \n",
    "\n",
    "# primero, generamos un string que contenga todos los archivos .pfd menos el que usamos como template\n",
    "    \n",
    "    pfd_files.remove(obs_template)  \n",
    "        \n",
    "    archivos = ''\n",
    "    for pfd in pfd_files:\n",
    "        archivos = archivos + pfd + ' '\n",
    "\n",
    "# ahora llamamos a pat para generar el archivo .tim\n",
    "\n",
    "    timing_file = timing_file = \"./results_nbins_\" + ant + \"/timing_files/timing_\" + str(nbin) + \".tim\"       # nombre del archivo .tim\n",
    "    \n",
    "    template = \n",
    "\n",
    "    subprocess.check_call( \"pat -FT -A PGS -s \" + template + \" -f >\" + timing_file + \" 'tempo2' \" + archivos, cwd=timing_folder, shell = True)\n"
   ]
  },
  {
   "cell_type": "code",
   "execution_count": null,
   "metadata": {
    "collapsed": true
   },
   "outputs": [],
   "source": []
  },
  {
   "cell_type": "code",
   "execution_count": null,
   "metadata": {
    "collapsed": true
   },
   "outputs": [],
   "source": []
  },
  {
   "cell_type": "code",
   "execution_count": null,
   "metadata": {
    "collapsed": true
   },
   "outputs": [],
   "source": [
    "\n",
    "\n",
    "\n",
    "\n",
    "#-----------------------------------------\n",
    "# calculamos el rms usando tempo2\n",
    "#-----------------------------------------\n",
    "\n",
    "    residue_file = \"residues_\" + str(nbin) + \"_\" + str(ant) + \".dat\"   # nombre del archivo de los residuos\n",
    "\n",
    "    subprocess.check_call( \"tempo2 >\" + residue_file + \" -us -f J0437-4715.par \" + timing_file, cwd=timing_folder, shell=True)\n",
    "\n",
    "# abrimos el archivo generado por tempo2, donde se encuentra el RMS que buscamos\n",
    "\n",
    "    RMS = np.genfromtxt ( str(ant) + '_' + str(nbin) + '/' + residue_file, comments=\"none\", dtype=float, skip_header=18, max_rows=1, usecols=(10) )\n",
    "\n",
    "    print(str(nbin) + ' ' + str(RMS) )"
   ]
  },
  {
   "cell_type": "code",
   "execution_count": 2,
   "metadata": {
    "collapsed": true
   },
   "outputs": [],
   "source": [
    "#----------------------------------------------------------------------------\n",
    "# Partimos de un conjunto de observaciones mezcladas con nbin=1024 y nbin=512\n",
    "# y nos quedamos con los .pfds de nbin=1024\n",
    "#----------------------------------------------------------------------------\n",
    "\n",
    "# creamos una lista con todos los archivos .pfd\n",
    "\n",
    "ant = 'A2'                                                # antena usada (A1 o A2)\n",
    "\n",
    "timing_folder = './' + str(ant) + '/'\n",
    "pfd_files_total = glob.glob(timing_folder+'*pfd')         # lista de archivos .pfd\n",
    "output = \"output.dat\"                                     # nombre del archivo de salida del cual vamos leyendo los headers\n",
    "\n",
    "# para cada archvio .pfd, generamos un archivo con su header y leemos su nbins y su nchan\n",
    "\n",
    "n=0\n",
    "m=0\n",
    "pfd_files_1024 = []\n",
    "pfds_1024_128 = []\n",
    "\n",
    "for pfd in pfd_files_total:\n",
    "    \n",
    "    subprocess.check_call( \"psrstat >\" + output + \" \" + pfd , shell=True )\n",
    "    \n",
    "    n_bins = np.genfromtxt ( output, comments=\"none\", dtype=int, skip_header=1, max_rows=1, usecols=(6) )\n",
    "    n_chan = np.genfromtxt ( output, comments=\"none\", dtype=int, skip_header=2, max_rows=1, usecols=(5) )\n",
    "\n",
    "    \n",
    "    if n_bins==1024:                                     # si el .pfd tiene nbin=1024\n",
    "        pfd_files_1024.append(pfd)                            # entonces lo guardamos en la lista\n",
    "        n += 1                                           # y aumentamos en 1 el numero de pfds con nbin=1024\n",
    "        \n",
    "        if n_chan==128:                                  # si el .pfd tiene nchan=128           \n",
    "            pfds_1024_128.append(pfd)                    # entonces lo guardamos en la lista con nchan=128\n",
    "            m += 1                              "
   ]
  },
  {
   "cell_type": "code",
   "execution_count": 29,
   "metadata": {
    "collapsed": true
   },
   "outputs": [],
   "source": [
    "#------------------------------------------------------------------------\n",
    "# Esto es para mover las observaciones con nbins=1024 a una nueva carpeta\n",
    "#------------------------------------------------------------------------\n",
    "\n",
    "ant = 'A2'                                                # antena usada (A1 o A2)  \n",
    "timing_folder_1024 = './' + str(ant) + '_1024/'\n",
    "\n",
    "for i in range(len(pfd_files_1024)):\n",
    "    shutil.copy(pfd_files_1024[i], timing_folder_1024)\n",
    "    shutil.copy(pfd_files_1024[i] + \".polycos\", timing_folder_1024)\n",
    "    shutil.copy(pfd_files_1024[i] + \".bestprof\", timing_folder_1024)"
   ]
  },
  {
   "cell_type": "code",
   "execution_count": 80,
   "metadata": {},
   "outputs": [
    {
     "name": "stdout",
     "output_type": "stream",
     "text": [
      "32 38.313\n",
      "64 1.201\n",
      "128 0.982\n",
      "256 0.849\n",
      "512 0.838\n",
      "1024 0.838\n"
     ]
    }
   ],
   "source": [
    "\n",
    "#--------------------------------------------------------\n",
    "# Ahora trabajamos con los .pfds de nbin=1024,512,256,...\n",
    "#--------------------------------------------------------\n",
    "\n",
    "for nbin in (32, 64, 128, 256, 512, 1024):\n",
    "\n",
    "    ant = 'A2'                                                # antena usada (A1 o A2)\n",
    "\n",
    "    timing_folder = './' + str(ant) + '_' + str(nbin) + '/'   # nombre de la carpeta que contiene los .pfds\n",
    "\n",
    "    os.chdir(timing_folder)                     # entramos al directorio que contiene los .pfds\n",
    "    pfd_files = glob.glob('*pfd')               # leemos los .pfds\n",
    "    os.chdir('..')                              # salimos del directorio que contiene los .pfds\n",
    "\n",
    "#    print(len(pfd_files))\n",
    "\n",
    "\n",
    "\n",
    "#-----------------------------------------\n",
    "# generamos los TOAs (el archivo .tim)\n",
    "#-----------------------------------------\n",
    "\n",
    "    template = \"template_\" + str(nbin) + \"_\" + str(ant) + \".std.sm\"       # nombre del template\n",
    "    timing_file = \"./timing_\" + str(nbin) + \"_\" + str(ant) + \".tim\"       # nombre del archivo .tim\n",
    "\n",
    "#    print(\"template = \" + str(template) )\n",
    "#    print(\"timing file = \" + str(timing_file) )\n",
    "\n",
    "# primero, generamos un string que contenga todos los archivos .pfd\n",
    "# menos el que usamos como template\n",
    "\n",
    "    pfd_files.remove('prepfold_20191204_230627_PSR_0437-4715.pfd')\n",
    "\n",
    "    archivos = ''\n",
    "    for pfd in pfd_files:\n",
    "        archivos = archivos + pfd + ' '\n",
    "    \n",
    "#print(archivos)\n",
    "       \n",
    "# ahora llamamos a pat para generar el archivo .tim\n",
    "\n",
    "    subprocess.check_call( \"pat -FT -A PGS -s \" + template + \" -f >\" + timing_file + \" 'tempo2' \" + archivos, cwd=timing_folder, shell = True)\n",
    "\n",
    "\n",
    "\n",
    "\n",
    "#-----------------------------------------\n",
    "# calculamos el rms usando tempo2\n",
    "#-----------------------------------------\n",
    "\n",
    "    residue_file = \"residues_\" + str(nbin) + \"_\" + str(ant) + \".dat\"   # nombre del archivo de los residuos\n",
    "\n",
    "    subprocess.check_call( \"tempo2 >\" + residue_file + \" -us -f J0437-4715.par \" + timing_file, cwd=timing_folder, shell=True)\n",
    "\n",
    "# abrimos el archivo generado por tempo2, donde se encuentra el RMS que buscamos\n",
    "\n",
    "    RMS = np.genfromtxt ( str(ant) + '_' + str(nbin) + '/' + residue_file, comments=\"none\", dtype=float, skip_header=18, max_rows=1, usecols=(10) )\n",
    "\n",
    "    print(str(nbin) + ' ' + str(RMS) )"
   ]
  },
  {
   "cell_type": "code",
   "execution_count": 76,
   "metadata": {
    "collapsed": true
   },
   "outputs": [],
   "source": [
    "#--------------------------------------------------------\n",
    "# Ahora trabajamos con los .pfds de nbin=1024,512,256,...\n",
    "#--------------------------------------------------------\n",
    "\n",
    "ant = 'A2'                                                # antena usada (A1 o A2)\n",
    "nbin = 1024                                                 # numero de bines en fase\n",
    "\n",
    "timing_folder = './' + str(ant) + '_' + str(nbin) + '/'\n",
    "\n",
    "os.chdir(timing_folder)                     # entramos al directorio que contiene los .pfds\n",
    "pfd_files = glob.glob('*pfd')               # leemos los .pfds\n",
    "os.chdir('..')                              # salimos del directorio que contiene los .pfds\n",
    "\n",
    "#print(pfd_files)"
   ]
  },
  {
   "cell_type": "code",
   "execution_count": 77,
   "metadata": {},
   "outputs": [
    {
     "name": "stdout",
     "output_type": "stream",
     "text": [
      "template = template_1024_A2.std.sm\n",
      "timing file = ./timing_1024_A2.tim\n"
     ]
    },
    {
     "data": {
      "text/plain": [
       "0"
      ]
     },
     "execution_count": 77,
     "metadata": {},
     "output_type": "execute_result"
    }
   ],
   "source": [
    "#-----------------------------------------\n",
    "# generamos los TOAs (el archivo .tim)\n",
    "#-----------------------------------------\n",
    "\n",
    "template = \"template_\" + str(nbin) + \"_\" + str(ant) + \".std.sm\"  # nombre del template\n",
    "timing_file = \"./timing_\" + str(nbin) + \"_\" + str(ant) + \".tim\"       # nombre del archivo .tim\n",
    "\n",
    "print(\"template = \" + str(template) )\n",
    "print(\"timing file = \" + str(timing_file) )\n",
    "\n",
    "# primero, generamos un string que contenga todos los archivos .pfd\n",
    "# menos el que usamos como template\n",
    "\n",
    "pfd_files.remove('prepfold_20191204_230627_PSR_0437-4715.pfd')\n",
    "\n",
    "archivos = ''\n",
    "for pfd in pfd_files:\n",
    "    archivos = archivos + pfd + ' '\n",
    "    \n",
    "#print(archivos)\n",
    "       \n",
    "# ahora llamamos a pat para generar el archivo .tim\n",
    "\n",
    "subprocess.check_call( \"pat -FT -A PGS -s \" + template + \" -f >\" + timing_file + \" 'tempo2' \" + archivos, cwd=timing_folder, shell = True)"
   ]
  },
  {
   "cell_type": "code",
   "execution_count": 48,
   "metadata": {},
   "outputs": [
    {
     "data": {
      "text/plain": [
       "0"
      ]
     },
     "execution_count": 48,
     "metadata": {},
     "output_type": "execute_result"
    }
   ],
   "source": [
    "#--------------------------------------------\n",
    "# En caso de trabajar con observaciones de A1\n",
    "#--------------------------------------------\n",
    "\n",
    "subprocess.check_call( \"sed -i -e 's/1414.8750/1414.4375/g' \" + timing_file , shell=True )"
   ]
  },
  {
   "cell_type": "code",
   "execution_count": 78,
   "metadata": {},
   "outputs": [
    {
     "name": "stdout",
     "output_type": "stream",
     "text": [
      "RMS = 0.838\n"
     ]
    }
   ],
   "source": [
    "#-----------------------------------------\n",
    "# calculamos el rms usando tempo2\n",
    "#-----------------------------------------\n",
    "\n",
    "residue_file = \"residues_\" + str(nbin) + \"_\" + str(ant) + \".dat\"   # nombre del archivo de los residuos\n",
    "\n",
    "subprocess.check_call( \"tempo2 >\" + residue_file + \" -us -f J0437-4715.par \" + timing_file, cwd=timing_folder, shell=True)\n",
    "\n",
    "# abrimos el archivo generado por tempo2, donde se encuentra el RMS que buscamos\n",
    "\n",
    "RMS = np.genfromtxt ( str(ant) + '_' + str(nbin) + '/' + residue_file, comments=\"none\", dtype=float, skip_header=18, max_rows=1, usecols=(10) )\n",
    "\n",
    "print(\"RMS = \" + str(RMS) )"
   ]
  },
  {
   "cell_type": "code",
   "execution_count": null,
   "metadata": {
    "collapsed": true
   },
   "outputs": [],
   "source": []
  },
  {
   "cell_type": "code",
   "execution_count": null,
   "metadata": {
    "collapsed": true
   },
   "outputs": [],
   "source": []
  }
 ],
 "metadata": {
  "kernelspec": {
   "display_name": "Python 3",
   "language": "python",
   "name": "python3"
  },
  "language_info": {
   "codemirror_mode": {
    "name": "ipython",
    "version": 3
   },
   "file_extension": ".py",
   "mimetype": "text/x-python",
   "name": "python",
   "nbconvert_exporter": "python",
   "pygments_lexer": "ipython3",
   "version": "3.6.2"
  }
 },
 "nbformat": 4,
 "nbformat_minor": 4
}
