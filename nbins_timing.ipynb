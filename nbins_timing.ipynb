{
 "cells": [
  {
   "cell_type": "markdown",
   "metadata": {
    "collapsed": true
   },
   "source": [
    "Programa que, dado conjuntos de las mismas observaciones arrugadas a nbins=32,64,128,256,512\n",
    "calcular sus TOAs y, a partir de ellos, calcula sus residuos. Adicionalmente, grafica el valor\n",
    "de la RMS correspondiente a cada conjunto junto a sus respectivas barras de error."
   ]
  },
  {
   "cell_type": "code",
   "execution_count": null,
   "metadata": {
    "collapsed": true
   },
   "outputs": [],
   "source": [
    "#-----------------------------------------\n",
    "# importamos los paquetes que vamos a usar\n",
    "#-----------------------------------------\n",
    "\n",
    "import os\n",
    "import shutil\n",
    "import numpy as np\n",
    "import glob                         # para hacer listas de archivo\n",
    "import subprocess                   # para usar subprocesos"
   ]
  },
  {
   "cell_type": "code",
   "execution_count": 31,
   "metadata": {
    "collapsed": true
   },
   "outputs": [],
   "source": [
    "ant = 'A1'                                         # antena usada (A1 o A2)    \n",
    "obs_template = np.loadtxt( './templates/obs_template_' + ant + '.dat' , skiprows=0 , dtype=str , usecols=(0) )  # observación originalmente usadada como template"
   ]
  },
  {
   "cell_type": "code",
   "execution_count": 32,
   "metadata": {},
   "outputs": [
    {
     "data": {
      "text/plain": [
       "'./results_nbins_A1/timing_files/J0437-4715.par'"
      ]
     },
     "execution_count": 32,
     "metadata": {},
     "output_type": "execute_result"
    }
   ],
   "source": [
    "#-----------------------------------------------\n",
    "# generamos carpetas para guardar los resultados\n",
    "#-----------------------------------------------\n",
    "\n",
    "dirName = \"./results_nbins_\" + ant            # nombre de la carpeta en que guardaremos los resultados\n",
    "if not os.path.exists(dirName):\n",
    "    os.mkdir(dirName)\n",
    "\n",
    "    \n",
    "os.chdir(dirName + '/')                       # entramos en la carpeta en la cual guadaremos los resultados\n",
    "    \n",
    "if not os.path.exists('./timing_files'):\n",
    "    os.mkdir('./timing_files')                # creamos la carpeta que contendrá los archivos .tim       \n",
    "    \n",
    "os.chdir('..')                                # salimos de la carpeta en la cual guadaremos los resultados\n",
    "    \n",
    "    \n",
    "shutil.copy('./J0437-4715.par', './results_nbins_' + ant + '/timing_files/')     # copiamos el archivo .par a la nueva carpeta para poder usar tempo2\n",
    "\n",
    "# Estos son arreglos que usaremos para graficar\n",
    "\n",
    "nbin_array = np.zeros(5)\n",
    "rms = np.zeros(5)"
   ]
  },
  {
   "cell_type": "code",
   "execution_count": 34,
   "metadata": {
    "collapsed": true
   },
   "outputs": [],
   "source": [
    "#--------------------------------------------------------\n",
    "# Ahora trabajamos con los .pfds de nbin=1024,512,256,...\n",
    "#--------------------------------------------------------\n",
    "\n",
    "i = 0\n",
    "for nbin in [64, 128, 256, 512, 1024]:\n",
    "    \n",
    "    nbin_array[i] = nbin\n",
    "\n",
    "    folder = './' + ant + '_' + str(nbin) + '/'                # nombre de la carpeta que contiene los .pfds\n",
    "    \n",
    "    template = 'template_' + str(nbin) + '_' + ant + '.std.sm' # nombre del template\n",
    "    \n",
    "    shutil.copy('./templates/' + template, folder)             # copiamos el template a la carpeta\n",
    "\n",
    "    \n",
    "    os.chdir(folder)                            # entramos al directorio que contiene los .pfds\n",
    "    pfd_files = glob.glob('*pfd')               # leemos los .pfds\n",
    "    \n",
    "\n",
    "#-----------------------------------------\n",
    "# generamos los TOAs (el archivo .tim)\n",
    "#-----------------------------------------\n",
    "\n",
    "# primero, generamos un string que contenga todos los archivos .pfd menos el que usamos como template\n",
    "\n",
    "    pfd_files.remove(str(obs_template))     # sacamos de la lista de observaciones a la que usamos como template\n",
    "\n",
    "    archivos = ''\n",
    "    for pfd in pfd_files:\n",
    "        archivos = archivos + pfd + ' '     # hacemos un string que contenga al resto de las observaciones\n",
    "\n",
    "# ahora llamamos a pat para generar el archivo .tim\n",
    "\n",
    "    timing_file = \"timing_\" + str(nbin) + \".tim\"       # nombre del archivo .tim\n",
    "\n",
    "    subprocess.check_call( \"pat -FT -A PGS -s \" + template + \" -f >\" + timing_file + \" 'tempo2' \" + archivos, shell = True)\n",
    "    \n",
    "    os.chdir('..')                                     # salimos del directorio que contiene los .pfds\n",
    "    \n",
    "    shutil.copy(folder + '/' + timing_file, \"./results_nbins_\" + ant + '/timing_files/')             # copiamos el archivo .tim a la carpeta\n",
    "    \n",
    "    # si las observaciones son de A1, hay que hacer una corrección por la frecuencia\n",
    "\n",
    "    if ant == 'A1':\n",
    "        subprocess.check_call([\"sed -i -e 's/1414.8750/1414.4375/g' ./results_nbins_\" + ant + \"/timing_files/\" + timing_file], shell=True)\n",
    "        \n",
    "#-----------------------------------------\n",
    "# calculamos el rms usando tempo2\n",
    "#-----------------------------------------\n",
    "\n",
    "    residue_file = \"residues_\" + str(nbin) + \".dat\"   # nombre del archivo de los residuos\n",
    "    \n",
    "    timing_folder = './results_nbins_' + ant + 'timing_files/'\n",
    "\n",
    "    subprocess.check_call( \"tempo2 >\" + residue_file + \" -us -f J0437-4715.par \" + timing_file, cwd=timing_folder, shell=True)\n",
    "\n",
    "# abrimos el archivo generado por tempo2, donde se encuentra el RMS que buscamos\n",
    "\n",
    "    rms[i] = np.genfromtxt ( timing folder + residue_file, comments=\"none\", dtype=float, skip_header=18, max_rows=1, usecols=(10) )\n",
    "\n",
    "    print(str(nbin_array[i]) + ' ' + str(rms[i] )\n",
    "          \n",
    "    i += 1"
   ]
  },
  {
   "cell_type": "code",
   "execution_count": null,
   "metadata": {
    "collapsed": true
   },
   "outputs": [],
   "source": [
    "# Set the fonts. Always use big fonts.\n",
    "nice_fonts = {\n",
    "        # Use LaTeX to write all text\n",
    "        \"text.usetex\": True,\n",
    "        \"font.family\": \"serif\",\n",
    "        # Use 10pt font in plots, to match 10pt font in document\n",
    "        \"axes.labelsize\": 30,\n",
    "        \"font.size\": 28,\n",
    "        \"axes.linewidth\": 1.5,\n",
    "        # Make the legend/label fonts a little smaller\n",
    "        \"legend.fontsize\": 32,\n",
    "        \"xtick.labelsize\": 26,\n",
    "        \"ytick.labelsize\": 26,\n",
    "}\n",
    "# Update the fonts\n",
    "mpl.rcParams.update(nice_fonts)\n",
    "#plt.tight_layout()\n",
    "\n",
    "fig, (ax) = plt.subplots(1, 1, figsize=(11,9))\n",
    "\n",
    "ax.set(xlabel='${\\mathrm{n_{bins}}}$', ylabel=\"$ {\\mathrm{RMS}}~[\\mu s] $\")\n",
    "ax.grid()\n",
    "\n",
    "ax.set_xscale('log', basex=2)\n",
    "\n",
    "ax.get_xaxis().set_major_formatter(mpl.ticker.FuncFormatter(lambda x, p: format(int(x), '')))\n",
    "\n",
    "plt.setp(ax1, xticks=[64,128,256,512,1024])\n",
    "\n",
    "# buscamos los valores de chisq_red que se corresponden a una confianza de 1 sigma\n",
    "\n",
    "prob_84 = scipy.stats.chi2.ppf( 0.84, n_free)\n",
    "prob_16 = scipy.stats.chi2.ppf( 0.16, n_free)\n",
    "\n",
    "# barremos todos los conjuntos de nbins\n",
    "\n",
    "rms_max = np.zeros(5)\n",
    "rms_min = np.zeros(5)\n",
    "\n",
    "for x in range(0,5):\n",
    "    \n",
    "   # calculamos las barras de error para A1\n",
    "\n",
    "    rms_max[x] = round(math.sqrt( ((n_free) / prob_16 * rms[x] , 4)\n",
    "    rms_min[x] = round(math.sqrt( ((n_free) / prob_84 * rms[x] , 4)\n",
    "\n",
    "\n",
    "asymmetric_error = [abs(rms_min_A1-rmsA1), abs(rms_max_A1-rmsA1)]\n",
    "\n",
    "ax.scatter(nbin_array, rms, label='', marker=\"s\", lw=7)\n",
    "ax.errorbar(nbin_array, rms, yerr=asymmetric_error, label='A1', marker=\"s\", fmt='o', capthick=3, capsize=5)\n",
    "ax.legend(loc='upper right')\n",
    "\n",
    "#fig.tight_layout()\n",
    "plt.savefig('nbins_rms_' + ant + '.pdf', bbox_inches='tight')\n",
    "plt.show()"
   ]
  }
 ],
 "metadata": {
  "kernelspec": {
   "display_name": "Python 3",
   "language": "python",
   "name": "python3"
  },
  "language_info": {
   "codemirror_mode": {
    "name": "ipython",
    "version": 3
   },
   "file_extension": ".py",
   "mimetype": "text/x-python",
   "name": "python",
   "nbconvert_exporter": "python",
   "pygments_lexer": "ipython3",
   "version": "3.6.2"
  }
 },
 "nbformat": 4,
 "nbformat_minor": 4
}
